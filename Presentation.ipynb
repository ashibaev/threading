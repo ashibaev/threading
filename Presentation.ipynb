{
 "cells": [
  {
   "cell_type": "markdown",
   "metadata": {
    "slideshow": {
     "slide_type": "slide"
    }
   },
   "source": [
    "# Fintech Python\n",
    "## Лекция 7"
   ]
  },
  {
   "cell_type": "markdown",
   "metadata": {
    "slideshow": {
     "slide_type": "slide"
    }
   },
   "source": [
    "# Процессы"
   ]
  },
  {
   "cell_type": "markdown",
   "metadata": {
    "slideshow": {
     "slide_type": "subslide"
    }
   },
   "source": [
    "Процесс — программа, которая исполняется в данный момент и обладает набором ресурсов:\n",
    "\n",
    " * образом исполняемого машинного кода\n",
    " * памятью\n",
    " * дескрипторами ресурсов (файлов, сокетов) etc.\n",
    " \n",
    "Процессы изолированы друг от друга операционной системой"
   ]
  },
  {
   "cell_type": "markdown",
   "metadata": {
    "slideshow": {
     "slide_type": "subslide"
    }
   },
   "source": [
    "### Создание новых процессов"
   ]
  },
  {
   "cell_type": "code",
   "execution_count": 100,
   "metadata": {
    "slideshow": {
     "slide_type": "fragment"
    }
   },
   "outputs": [
    {
     "name": "stdout",
     "output_type": "stream",
     "text": [
      "Hello, world\n",
      "Hello, world\n"
     ]
    }
   ],
   "source": [
    "import os\n",
    "\n",
    "os.fork()\n",
    "\n",
    "print(\"Hello, world\")"
   ]
  },
  {
   "cell_type": "code",
   "execution_count": 101,
   "metadata": {
    "slideshow": {
     "slide_type": "subslide"
    }
   },
   "outputs": [
    {
     "name": "stdout",
     "output_type": "stream",
     "text": [
      "Hello, world\n",
      "Hello, world\n",
      "Hello, world\n",
      "Hello, world\n",
      "Hello, world\n",
      "Hello, world\n",
      "Hello, world\n",
      "Hello, world\n"
     ]
    }
   ],
   "source": [
    "import os\n",
    "\n",
    "os.fork()\n",
    "os.fork()\n",
    "os.fork()\n",
    "\n",
    "print(\"Hello, world\")"
   ]
  },
  {
   "cell_type": "code",
   "execution_count": 102,
   "metadata": {
    "slideshow": {
     "slide_type": "subslide"
    }
   },
   "outputs": [
    {
     "name": "stdout",
     "output_type": "stream",
     "text": [
      "Parent: 2\n",
      "Child: 3\n"
     ]
    }
   ],
   "source": [
    "import os\n",
    "import time\n",
    "\n",
    "x = 1\n",
    "\n",
    "if os.fork():  # Возвращает 0 в дочернем процессе и pid ребенка в родительском\n",
    "    x += 1\n",
    "    time.sleep(1)\n",
    "    print(f'Parent: {x}')\n",
    "else:\n",
    "    x += 2\n",
    "    time.sleep(1)\n",
    "    print(f'Child: {x}')"
   ]
  },
  {
   "cell_type": "markdown",
   "metadata": {
    "slideshow": {
     "slide_type": "subslide"
    }
   },
   "source": [
    "## Copy on write\n",
    "\n",
    "* Пока читаем - используем старые данные\n",
    "* При записи копируем"
   ]
  },
  {
   "cell_type": "markdown",
   "metadata": {
    "slideshow": {
     "slide_type": "subslide"
    }
   },
   "source": [
    "# Есть один нюанс..."
   ]
  },
  {
   "cell_type": "markdown",
   "metadata": {
    "slideshow": {
     "slide_type": "slide"
    }
   },
   "source": [
    "# multiprocessing\n",
    "https://docs.python.org/3/library/multiprocessing.html"
   ]
  },
  {
   "cell_type": "code",
   "execution_count": null,
   "metadata": {
    "slideshow": {
     "slide_type": "fragment"
    }
   },
   "outputs": [],
   "source": [
    "from multiprocessing import Process\n",
    "import os\n",
    "\n",
    "def info(title):\n",
    "    print(title)\n",
    "    print('parent process:', os.getppid())\n",
    "    print('process id:', os.getpid())\n",
    "    \n",
    "def f(name):\n",
    "    info('function f')\n",
    "    print('hello', name)\n",
    "    \n",
    "if __name__ == '__main__':\n",
    "    info('main line')\n",
    "    p = Process(target=f, args=('bob',))\n",
    "    p.start()\n",
    "    p.join()"
   ]
  },
  {
   "cell_type": "code",
   "execution_count": 5,
   "metadata": {
    "slideshow": {
     "slide_type": "subslide"
    }
   },
   "outputs": [
    {
     "name": "stdout",
     "output_type": "stream",
     "text": [
      "[1, 0, 3, 2, 4, 5, 6, 10, 7, 8, 11, 12, 9, 14, 13, 15, 17, 18, 20, 19, 16, 21, 22, 23, 24, 26, 25, 28, 27, 29]\n"
     ]
    }
   ],
   "source": [
    "from multiprocessing import Process, Queue\n",
    "\n",
    "\n",
    "def worker(job: int, queue: Queue):\n",
    "    queue.put(job)\n",
    "\n",
    "    \n",
    "queue = Queue()\n",
    "processes = [Process(target=worker, args=(i, queue)) for i in range(30)]\n",
    "for p in processes:\n",
    "    p.start()\n",
    "for p in processes:\n",
    "    p.join()\n",
    "\n",
    "result = [queue.get() for i in range(30)]\n",
    "print(result)"
   ]
  },
  {
   "cell_type": "code",
   "execution_count": 6,
   "metadata": {
    "slideshow": {
     "slide_type": "subslide"
    }
   },
   "outputs": [],
   "source": [
    "size = 100_000_000\n",
    "arr = [1] * size"
   ]
  },
  {
   "cell_type": "code",
   "execution_count": 7,
   "metadata": {
    "slideshow": {
     "slide_type": "fragment"
    }
   },
   "outputs": [
    {
     "name": "stdout",
     "output_type": "stream",
     "text": [
      "CPU times: user 1.26 s, sys: 4 ms, total: 1.26 s\n",
      "Wall time: 2.15 s\n"
     ]
    },
    {
     "data": {
      "text/plain": [
       "100000000"
      ]
     },
     "execution_count": 7,
     "metadata": {},
     "output_type": "execute_result"
    }
   ],
   "source": [
    "%%time\n",
    "sum(arr)"
   ]
  },
  {
   "cell_type": "code",
   "execution_count": 8,
   "metadata": {
    "slideshow": {
     "slide_type": "subslide"
    }
   },
   "outputs": [
    {
     "data": {
      "text/plain": [
       "8"
      ]
     },
     "execution_count": 8,
     "metadata": {},
     "output_type": "execute_result"
    }
   ],
   "source": [
    "from multiprocessing import Pool\n",
    "\n",
    "process_count = os.cpu_count()\n",
    "part_size = size // process_count\n",
    "\n",
    "process_count"
   ]
  },
  {
   "cell_type": "code",
   "execution_count": 9,
   "metadata": {
    "slideshow": {
     "slide_type": "fragment"
    }
   },
   "outputs": [
    {
     "name": "stdout",
     "output_type": "stream",
     "text": [
      "CPU times: user 3.3 s, sys: 762 ms, total: 4.07 s\n",
      "Wall time: 7.62 s\n"
     ]
    }
   ],
   "source": [
    "%%time\n",
    "with Pool(process_count) as p:\n",
    "    p.map(sum, (arr[i * part_size: (i+1) * part_size] for i in range(process_count)))"
   ]
  },
  {
   "cell_type": "markdown",
   "metadata": {
    "slideshow": {
     "slide_type": "fragment"
    }
   },
   "source": [
    "Проблема в большом объеме данных"
   ]
  },
  {
   "cell_type": "code",
   "execution_count": 10,
   "metadata": {
    "slideshow": {
     "slide_type": "subslide"
    }
   },
   "outputs": [],
   "source": [
    "def get_sum(size):\n",
    "    return sum([1] * size)"
   ]
  },
  {
   "cell_type": "code",
   "execution_count": 11,
   "metadata": {
    "slideshow": {
     "slide_type": "fragment"
    }
   },
   "outputs": [
    {
     "name": "stdout",
     "output_type": "stream",
     "text": [
      "CPU times: user 5.72 ms, sys: 195 ms, total: 201 ms\n",
      "Wall time: 1.21 s\n"
     ]
    }
   ],
   "source": [
    "%%time\n",
    "with Pool(process_count) as p:\n",
    "    p.map(get_sum, [part_size] * process_count)"
   ]
  },
  {
   "cell_type": "code",
   "execution_count": 12,
   "metadata": {
    "slideshow": {
     "slide_type": "fragment"
    }
   },
   "outputs": [
    {
     "name": "stdout",
     "output_type": "stream",
     "text": [
      "677 ms ± 28.9 ms per loop (mean ± std. dev. of 7 runs, 1 loop each)\n"
     ]
    }
   ],
   "source": [
    "with Pool(process_count) as p:\n",
    "    %timeit p.map(get_sum, [part_size] * process_count)"
   ]
  },
  {
   "cell_type": "markdown",
   "metadata": {
    "slideshow": {
     "slide_type": "subslide"
    }
   },
   "source": [
    "# Таки слишком дорого\n",
    "\n",
    "### Резюме\n",
    "* Создавать процессы — это дорого \n",
    "* Передавать данные между процессами — тоже дорого. Поэтому иногда меньше процессов — лучше\n",
    "* Если данных для обмена много, и задача не слишком тяжелая, лучше обойтись без multiprocessing'а"
   ]
  },
  {
   "cell_type": "markdown",
   "metadata": {
    "slideshow": {
     "slide_type": "slide"
    }
   },
   "source": [
    "## Потоки"
   ]
  },
  {
   "cell_type": "markdown",
   "metadata": {
    "slideshow": {
     "slide_type": "fragment"
    }
   },
   "source": [
    "<img src=\"nlhI00n.png\">"
   ]
  },
  {
   "cell_type": "markdown",
   "metadata": {
    "slideshow": {
     "slide_type": "subslide"
    }
   },
   "source": [
    "<img src=\"TaskExecution.gif\">"
   ]
  },
  {
   "cell_type": "markdown",
   "metadata": {
    "slideshow": {
     "slide_type": "fragment"
    }
   },
   "source": [
    "В один момент времени одно ядро процессора исполняет ровно один поток"
   ]
  },
  {
   "cell_type": "markdown",
   "metadata": {
    "slideshow": {
     "slide_type": "subslide"
    }
   },
   "source": [
    " Несколько ядер могут выполнять несколько потоков буквально одновременно"
   ]
  },
  {
   "cell_type": "markdown",
   "metadata": {
    "slideshow": {
     "slide_type": "fragment"
    }
   },
   "source": [
    "<img src=\"diagram-thread-concurrency.png\">"
   ]
  },
  {
   "cell_type": "markdown",
   "metadata": {
    "slideshow": {
     "slide_type": "subslide"
    }
   },
   "source": [
    "<img src=\"switch-context.png\">"
   ]
  },
  {
   "cell_type": "markdown",
   "metadata": {
    "slideshow": {
     "slide_type": "subslide"
    }
   },
   "source": [
    "https://github.com/mit-pdos/xv6-public/blob/master/proc.c#L323\n",
    "```c\n",
    "  for(;;){\n",
    "\n",
    "    // Loop over process table looking for process to run.\n",
    "    acquire(&ptable.lock);\n",
    "    for(p = ptable.proc; p < &ptable.proc[NPROC]; p++){\n",
    "      if(p->state != RUNNABLE)\n",
    "        continue;\n",
    "        \n",
    "      c->proc = p;\n",
    "      switchuvm(p);\n",
    "      p->state = RUNNING;\n",
    "\n",
    "      swtch(&(c->scheduler), p->context);\n",
    "      switchkvm();\n",
    "\n",
    "      c->proc = 0;\n",
    "    }\n",
    "    release(&ptable.lock);\n",
    "  }\n",
    "```"
   ]
  },
  {
   "cell_type": "markdown",
   "metadata": {
    "slideshow": {
     "slide_type": "subslide"
    }
   },
   "source": [
    "<img src=\"Process_states.ru.svg.png\">"
   ]
  },
  {
   "cell_type": "markdown",
   "metadata": {},
   "source": [
    "https://docs.python.org/3/library/threading.html"
   ]
  },
  {
   "cell_type": "code",
   "execution_count": 41,
   "metadata": {
    "scrolled": true,
    "slideshow": {
     "slide_type": "subslide"
    }
   },
   "outputs": [
    {
     "name": "stdout",
     "output_type": "stream",
     "text": [
      "Worker: 0\n",
      "Worker: 1Worker: 2\n",
      "\n",
      "Worker: 3\n",
      "Worker: 4\n"
     ]
    }
   ],
   "source": [
    "from threading import Thread\n",
    "\n",
    "\n",
    "def worker(num):\n",
    "    print(f'Worker: {num}')\n",
    "\n",
    "    \n",
    "threads = [Thread(target=worker, args=(i,)) for i in range(5)]\n",
    "for t in threads:\n",
    "    t.start()\n",
    "for t in threads:\n",
    "    t.join()    "
   ]
  },
  {
   "cell_type": "code",
   "execution_count": null,
   "metadata": {
    "slideshow": {
     "slide_type": "subslide"
    }
   },
   "outputs": [],
   "source": [
    "from threading import Thread\n",
    "\n",
    "x = 0\n",
    "\n",
    "def worker(num):\n",
    "    global x\n",
    "    x += 1\n",
    "\n",
    "    \n",
    "threads = [Thread(target=worker, args=(i,)) for i in range(10)]\n",
    "for t in threads:\n",
    "    t.start()\n",
    "for t in threads:\n",
    "    t.join()   \n",
    "\n",
    "x"
   ]
  },
  {
   "cell_type": "code",
   "execution_count": 14,
   "metadata": {
    "slideshow": {
     "slide_type": "subslide"
    }
   },
   "outputs": [
    {
     "data": {
      "text/plain": [
       "10"
      ]
     },
     "execution_count": 14,
     "metadata": {},
     "output_type": "execute_result"
    }
   ],
   "source": [
    "from threading import Thread\n",
    "\n",
    "x = 0\n",
    "\n",
    "def worker(num):\n",
    "    global x\n",
    "    x += 1\n",
    "\n",
    "    \n",
    "threads = [Thread(target=worker, args=(i,)) for i in range(10)]\n",
    "for t in threads:\n",
    "    t.start()\n",
    "for t in threads:\n",
    "    t.join()   \n",
    "\n",
    "x"
   ]
  },
  {
   "cell_type": "markdown",
   "metadata": {
    "slideshow": {
     "slide_type": "subslide"
    }
   },
   "source": [
    "Нам просто повезло"
   ]
  },
  {
   "cell_type": "markdown",
   "metadata": {
    "slideshow": {
     "slide_type": "fragment"
    }
   },
   "source": [
    "Давайте усугубим ситуацию"
   ]
  },
  {
   "cell_type": "code",
   "execution_count": 42,
   "metadata": {
    "slideshow": {
     "slide_type": "fragment"
    }
   },
   "outputs": [
    {
     "data": {
      "text/plain": [
       "916"
      ]
     },
     "execution_count": 42,
     "metadata": {},
     "output_type": "execute_result"
    }
   ],
   "source": [
    "import time\n",
    "from threading import Thread\n",
    "\n",
    "x = 0\n",
    "\n",
    "def worker(num: int) -> None:\n",
    "    global x\n",
    "    old_x = x\n",
    "    time.sleep(0.00001)\n",
    "    new_x = old_x + 1\n",
    "    x = new_x\n",
    "\n",
    "    \n",
    "threads = [Thread(target=worker, args=(i,)) for i in range(1000)]\n",
    "for t in threads:\n",
    "    t.start()\n",
    "for t in threads:\n",
    "    t.join()   \n",
    "\n",
    "x"
   ]
  },
  {
   "cell_type": "markdown",
   "metadata": {
    "slideshow": {
     "slide_type": "slide"
    }
   },
   "source": [
    "# Race condition\n",
    "<img src=\"race-condition.jpg\">"
   ]
  },
  {
   "cell_type": "markdown",
   "metadata": {
    "slideshow": {
     "slide_type": "subslide"
    }
   },
   "source": [
    "Решение первое: в лоб"
   ]
  },
  {
   "cell_type": "code",
   "execution_count": 16,
   "metadata": {
    "slideshow": {
     "slide_type": "fragment"
    }
   },
   "outputs": [
    {
     "data": {
      "text/plain": [
       "1000"
      ]
     },
     "execution_count": 16,
     "metadata": {},
     "output_type": "execute_result"
    }
   ],
   "source": [
    "import time\n",
    "from threading import Thread, Lock\n",
    "\n",
    "x = 0\n",
    "\n",
    "def worker(num: int, lock: Lock) -> None:\n",
    "    global x\n",
    "    lock.acquire()\n",
    "    old_x = x\n",
    "    time.sleep(0.00001)\n",
    "    new_x = old_x + 1\n",
    "    x = new_x\n",
    "    lock.release()\n",
    "\n",
    "\n",
    "lock = Lock()\n",
    "threads = [Thread(target=worker, args=(i, lock)) for i in range(1000)]\n",
    "for t in threads:\n",
    "    t.start()\n",
    "for t in threads:\n",
    "    t.join()   \n",
    "\n",
    "x"
   ]
  },
  {
   "cell_type": "markdown",
   "metadata": {
    "slideshow": {
     "slide_type": "subslide"
    }
   },
   "source": [
    "Чуть более правильное решение"
   ]
  },
  {
   "cell_type": "code",
   "execution_count": 17,
   "metadata": {
    "slideshow": {
     "slide_type": "fragment"
    }
   },
   "outputs": [
    {
     "data": {
      "text/plain": [
       "1000"
      ]
     },
     "execution_count": 17,
     "metadata": {},
     "output_type": "execute_result"
    }
   ],
   "source": [
    "import time\n",
    "from threading import Thread, Lock\n",
    "\n",
    "x = 0\n",
    "\n",
    "def worker(num: int, lock: Lock) -> None:\n",
    "    global x\n",
    "    with lock:\n",
    "        old_x = x\n",
    "        time.sleep(0.00001)\n",
    "        new_x = old_x + 1\n",
    "        x = new_x\n",
    "\n",
    "\n",
    "lock = Lock()\n",
    "threads = [Thread(target=worker, args=(i, lock)) for i in range(1000)]\n",
    "for t in threads:\n",
    "    t.start()\n",
    "for t in threads:\n",
    "    t.join()   \n",
    "\n",
    "x"
   ]
  },
  {
   "cell_type": "markdown",
   "metadata": {
    "slideshow": {
     "slide_type": "subslide"
    }
   },
   "source": [
    "С локами приходится думать"
   ]
  },
  {
   "cell_type": "code",
   "execution_count": 18,
   "metadata": {
    "slideshow": {
     "slide_type": "fragment"
    }
   },
   "outputs": [],
   "source": [
    "from threading import Lock\n",
    "\n",
    "lock_a = Lock()\n",
    "lock_b = Lock()\n",
    "data = {}\n",
    "\n",
    "def func_a():\n",
    "    with lock_a:\n",
    "        with lock_b:\n",
    "            pass\n",
    "        \n",
    "\n",
    "def func_b():\n",
    "    with lock_b:\n",
    "        with lock_a:\n",
    "            pass"
   ]
  },
  {
   "cell_type": "markdown",
   "metadata": {
    "slideshow": {
     "slide_type": "subslide"
    }
   },
   "source": [
    "Вариант с [queue.Queue](https://docs.python.org/3/library/queue.html)"
   ]
  },
  {
   "cell_type": "markdown",
   "metadata": {
    "slideshow": {
     "slide_type": "fragment"
    }
   },
   "source": [
    "<img src=\"queue.png\">"
   ]
  },
  {
   "cell_type": "markdown",
   "metadata": {
    "slideshow": {
     "slide_type": "subslide"
    }
   },
   "source": [
    "# Сверхразум"
   ]
  },
  {
   "cell_type": "code",
   "execution_count": 19,
   "metadata": {
    "slideshow": {
     "slide_type": "fragment"
    }
   },
   "outputs": [],
   "source": [
    "import random\n",
    "\n",
    "lock = Lock()\n",
    "\n",
    "def worker():\n",
    "    with lock:\n",
    "        if random.randint(0, 1):\n",
    "            os.fork()\n",
    "            \n",
    "threads = [Thread(target=worker) for i in range(10)]"
   ]
  },
  {
   "cell_type": "markdown",
   "metadata": {
    "slideshow": {
     "slide_type": "subslide"
    }
   },
   "source": [
    "Задача с суммой массива"
   ]
  },
  {
   "cell_type": "code",
   "execution_count": 20,
   "metadata": {
    "slideshow": {
     "slide_type": "skip"
    }
   },
   "outputs": [],
   "source": [
    "import queue"
   ]
  },
  {
   "cell_type": "code",
   "execution_count": 21,
   "metadata": {
    "slideshow": {
     "slide_type": "subslide"
    }
   },
   "outputs": [],
   "source": [
    "def adder(arr, part_id, thread_count, results_queue):\n",
    "    results_queue.put(\n",
    "        sum(arr[i] for i in range(part_id, len(arr), thread_count))\n",
    "    )\n",
    "    \n",
    "\n",
    "def sum_using_threads(arr, thread_count):\n",
    "    res_queue = queue.Queue()\n",
    "    threads = [\n",
    "        Thread(target=adder, args=(arr, i, thread_count, res_queue))\n",
    "        for i in range(thread_count)\n",
    "    ]\n",
    "    for thread in threads:\n",
    "        thread.start()\n",
    "\n",
    "    results = []\n",
    "    for thread in threads:\n",
    "        results.append(res_queue.get())\n",
    "        thread.join()\n",
    "\n",
    "    return sum(results)"
   ]
  },
  {
   "cell_type": "code",
   "execution_count": 25,
   "metadata": {
    "slideshow": {
     "slide_type": "subslide"
    }
   },
   "outputs": [],
   "source": [
    "size = 10 ** 7\n",
    "arr = [1 for _ in range(size)]"
   ]
  },
  {
   "cell_type": "code",
   "execution_count": 26,
   "metadata": {
    "slideshow": {
     "slide_type": "fragment"
    }
   },
   "outputs": [
    {
     "name": "stdout",
     "output_type": "stream",
     "text": [
      "668 ms ± 47.9 ms per loop (mean ± std. dev. of 7 runs, 1 loop each)\n"
     ]
    }
   ],
   "source": [
    "%%timeit\n",
    "sum(arr[i] for i in range(len(arr)))"
   ]
  },
  {
   "cell_type": "code",
   "execution_count": 27,
   "metadata": {
    "slideshow": {
     "slide_type": "fragment"
    }
   },
   "outputs": [
    {
     "name": "stdout",
     "output_type": "stream",
     "text": [
      "725 ms ± 76 ms per loop (mean ± std. dev. of 7 runs, 1 loop each)\n"
     ]
    }
   ],
   "source": [
    "%%timeit\n",
    "sum_using_threads(arr, 4)"
   ]
  },
  {
   "cell_type": "markdown",
   "metadata": {
    "slideshow": {
     "slide_type": "subslide"
    }
   },
   "source": [
    "<img src=\"gil.png\">"
   ]
  },
  {
   "cell_type": "markdown",
   "metadata": {
    "slideshow": {
     "slide_type": "slide"
    }
   },
   "source": [
    "# GIL* - Global Interpreter Lock\n",
    "\n",
    "https://asvetlov.blogspot.com/2011/07/gil.html\n",
    "\n",
    "###### *Запрещенная в России преступная организация"
   ]
  },
  {
   "cell_type": "markdown",
   "metadata": {
    "slideshow": {
     "slide_type": "subslide"
    }
   },
   "source": [
    "Для тех, кто любит почитать исходники на ночь\n",
    "<font size=\"3\">\n",
    "```c\n",
    "PyObject *\n",
    "PyEval_EvalFrameEx(PyFrameObject *f, int throwflag)\n",
    "{\n",
    "    PyThreadState *tstate = PyThreadState_GET();\n",
    "    /* ... */\n",
    "    for (;;) {\n",
    "        /* ... */\n",
    "        if (_Py_atomic_load_relaxed(&eval_breaker)) {\n",
    "            /* ... */\n",
    "            if (_Py_atomic_load_relaxed(&gil_drop_request)) {\n",
    "                /* Give another thread a chance */\n",
    "                if (PyThreadState_Swap(NULL) != tstate)\n",
    "                    Py_FatalError(\"ceval: tstate mix-up\");\n",
    "                drop_gil(tstate);\n",
    "\n",
    "                /* Other threads may run now */\n",
    "\n",
    "                take_gil(tstate);\n",
    "                if (PyThreadState_Swap(tstate) != NULL)\n",
    "                    Py_FatalError(\"ceval: orphan tstate\");\n",
    "            }\n",
    "        }\n",
    "    /* instruction processing */\n",
    "    }\n",
    "}\n",
    "```"
   ]
  },
  {
   "cell_type": "markdown",
   "metadata": {
    "slideshow": {
     "slide_type": "subslide"
    }
   },
   "source": [
    "# Зачем нужен GIL? Почему же его не убрали?"
   ]
  },
  {
   "cell_type": "markdown",
   "metadata": {
    "slideshow": {
     "slide_type": "subslide"
    }
   },
   "source": [
    "Отпускаем GIL:\n",
    "\n",
    "* Если есть те, кто его ждет\n",
    "* Отдаем добровольно перед системным вызовом"
   ]
  },
  {
   "cell_type": "markdown",
   "metadata": {
    "slideshow": {
     "slide_type": "subslide"
    }
   },
   "source": [
    "Забираем GIL:\n",
    "\n",
    "* Если мы его отдали по просьбе, то не просим сразу\n",
    "* Если не получилось захватить GIL, то ждем 5 секунд и отправляем запрос на переключение"
   ]
  },
  {
   "cell_type": "code",
   "execution_count": 33,
   "metadata": {
    "slideshow": {
     "slide_type": "subslide"
    }
   },
   "outputs": [],
   "source": [
    "import requests\n",
    "\n",
    "urls = [\n",
    "    'https://www.yandex.ru', 'https://www.google.com',\n",
    "    'https://www.python.org', 'https://github.com'\n",
    "]"
   ]
  },
  {
   "cell_type": "code",
   "execution_count": 34,
   "metadata": {
    "slideshow": {
     "slide_type": "fragment"
    }
   },
   "outputs": [
    {
     "name": "stdout",
     "output_type": "stream",
     "text": [
      "1.44 s ± 34.4 ms per loop (mean ± std. dev. of 7 runs, 1 loop each)\n"
     ]
    }
   ],
   "source": [
    "%%timeit\n",
    "for url in urls:\n",
    "    requests.get(url).text"
   ]
  },
  {
   "cell_type": "code",
   "execution_count": 35,
   "metadata": {
    "slideshow": {
     "slide_type": "subslide"
    }
   },
   "outputs": [],
   "source": [
    "def read_url(url):\n",
    "    return requests.get(url).text"
   ]
  },
  {
   "cell_type": "code",
   "execution_count": 37,
   "metadata": {
    "slideshow": {
     "slide_type": "fragment"
    }
   },
   "outputs": [
    {
     "name": "stdout",
     "output_type": "stream",
     "text": [
      "490 ms ± 39.3 ms per loop (mean ± std. dev. of 7 runs, 1 loop each)\n"
     ]
    }
   ],
   "source": [
    "%%timeit\n",
    "readers = [\n",
    "    Thread(target=read_url, args=(url,)) for url in urls\n",
    "]\n",
    "for reader in readers:\n",
    "    reader.start()\n",
    "for reader in readers:\n",
    "    reader.join()"
   ]
  },
  {
   "cell_type": "markdown",
   "metadata": {
    "slideshow": {
     "slide_type": "subslide"
    }
   },
   "source": [
    "### Вывод \n",
    "\n",
    "* Для IO bound (web, crawlers) приложений потоки отлично работают\n",
    "* Для CPU bound (math, image processing) используем процессы или специальные C extension (numpy), которые умеют параллелиться без GIL\n",
    "* В вебе почти всегда комбинация обоихвариантов, т.е. N процессов и в каждом M тредов"
   ]
  },
  {
   "cell_type": "markdown",
   "metadata": {
    "slideshow": {
     "slide_type": "slide"
    }
   },
   "source": [
    "# Питонячая магия"
   ]
  },
  {
   "cell_type": "code",
   "execution_count": 43,
   "metadata": {
    "slideshow": {
     "slide_type": "subslide"
    }
   },
   "outputs": [],
   "source": [
    "class Cow:\n",
    "    def __init__(self, name: str) -> None:\n",
    "        self._name = name\n",
    "        \n",
    "    # Проверяем имя коровы\n",
    "    def set_name(self, name: str) -> None:\n",
    "        if not isinstance(name, str):\n",
    "            raise ValueError()\n",
    "        if name == \"\":\n",
    "            raise ValueError()\n",
    "        self._name = name"
   ]
  },
  {
   "cell_type": "code",
   "execution_count": 44,
   "metadata": {
    "slideshow": {
     "slide_type": "fragment"
    }
   },
   "outputs": [],
   "source": [
    "class Sheep:\n",
    "    def __init__(self, name: str):\n",
    "        self._name = name\n",
    "        \n",
    "    def set_name(self, name: str) -> None:\n",
    "        if not isinstance(name, str):\n",
    "            raise ValueError()\n",
    "        if name == \"\":\n",
    "            raise ValueError()\n",
    "        self._name = name"
   ]
  },
  {
   "cell_type": "markdown",
   "metadata": {
    "slideshow": {
     "slide_type": "subslide"
    }
   },
   "source": [
    "### Решения?"
   ]
  },
  {
   "cell_type": "markdown",
   "metadata": {
    "slideshow": {
     "slide_type": "fragment"
    }
   },
   "source": [
    "### Наследование"
   ]
  },
  {
   "cell_type": "code",
   "execution_count": 45,
   "metadata": {
    "slideshow": {
     "slide_type": "fragment"
    }
   },
   "outputs": [],
   "source": [
    "class Animal:\n",
    "    def __init__(self, name: str) -> None:\n",
    "        self._name = name\n",
    "        \n",
    "    def set_name(self, name: str) -> None:\n",
    "        if not isinstance(name, str):\n",
    "            raise ValueError()\n",
    "        if name == \"\":\n",
    "            raise ValueError()\n",
    "        self._name = name\n",
    "        \n",
    "class Cow(Animal):\n",
    "    pass\n",
    "\n",
    "class Sheep(Animal):\n",
    "    pass"
   ]
  },
  {
   "cell_type": "markdown",
   "metadata": {
    "slideshow": {
     "slide_type": "subslide"
    }
   },
   "source": [
    "### Проблема: появился фермер"
   ]
  },
  {
   "cell_type": "code",
   "execution_count": 46,
   "metadata": {
    "slideshow": {
     "slide_type": "fragment"
    }
   },
   "outputs": [],
   "source": [
    "class Farmer:\n",
    "    def __init__(self, name: str, surname: str) -> None:\n",
    "        self._name = name\n",
    "        self._surname = surname\n",
    "        \n",
    "    def set_name(self, name: str) -> None:\n",
    "        if not isinstance(name, str):\n",
    "            raise ValueError()\n",
    "        if name == \"\":\n",
    "            raise ValueError()\n",
    "        self._name = name\n",
    "        \n",
    "    def set_surname(self, surname: str) -> None:\n",
    "        if not isinstance(surname, str):\n",
    "            raise ValueError()\n",
    "        if surname == \"\":\n",
    "            raise ValueError()\n",
    "        self._surname = surname"
   ]
  },
  {
   "cell_type": "code",
   "execution_count": 47,
   "metadata": {
    "slideshow": {
     "slide_type": "subslide"
    }
   },
   "outputs": [],
   "source": [
    "class Farmer(Animal):\n",
    "    def __init__(self, name: str, surname: str) -> None:\n",
    "        super().__init__()\n",
    "        self._surname = surname\n",
    "        \n",
    "    def set_surname(self, surname: str) -> None:\n",
    "        if not isinstance(surname, str):\n",
    "            raise ValueError()\n",
    "        if surname == \"\":\n",
    "            raise ValueError()\n",
    "        self._surname = surname"
   ]
  },
  {
   "cell_type": "markdown",
   "metadata": {
    "slideshow": {
     "slide_type": "subslide"
    }
   },
   "source": [
    "# Дескрипторы\n",
    "\n",
    "https://docs.python.org/3/howto/descriptor.html"
   ]
  },
  {
   "cell_type": "code",
   "execution_count": null,
   "metadata": {
    "slideshow": {
     "slide_type": "subslide"
    }
   },
   "outputs": [],
   "source": [
    "a.x\n",
    "# type(a).__dict__['x'].__get__(a, type(a))"
   ]
  },
  {
   "cell_type": "code",
   "execution_count": 51,
   "metadata": {
    "slideshow": {
     "slide_type": "skip"
    }
   },
   "outputs": [],
   "source": [
    "from typing import Optional, Any"
   ]
  },
  {
   "cell_type": "code",
   "execution_count": 53,
   "metadata": {
    "slideshow": {
     "slide_type": "subslide"
    }
   },
   "outputs": [],
   "source": [
    "class NonEmptyString:\n",
    "    def __init__(self, name: str):\n",
    "        self._name = name\n",
    "    \n",
    "    def __get__(self, obj: Optional[Any], objtype: type) -> Any:\n",
    "        if obj is None:\n",
    "            return self\n",
    "        return getattr(obj, self._name)\n",
    "    \n",
    "    def __set__(self, obj: Optional[Any], value: str) -> None:\n",
    "        if not isinstance(value, str):\n",
    "            raise ValueError()\n",
    "        if value == \"\":\n",
    "            raise ValueError()\n",
    "        setattr(obj, self._name, value)"
   ]
  },
  {
   "cell_type": "code",
   "execution_count": 55,
   "metadata": {
    "slideshow": {
     "slide_type": "subslide"
    }
   },
   "outputs": [
    {
     "name": "stdout",
     "output_type": "stream",
     "text": [
      "Grzegorz Brzęczyszczykiewicz\n",
      "Boris Brzęczyszczykiewicz\n"
     ]
    }
   ],
   "source": [
    "class Farmer:\n",
    "    name = NonEmptyString(\"_name\")\n",
    "    surname = NonEmptyString(\"_surname\")\n",
    "    \n",
    "    def __init__(self, name: str, surname: str) -> None:\n",
    "        self.name = name\n",
    "        self.surname = surname\n",
    "    \n",
    "\n",
    "farmer = Farmer(\"Grzegorz\", \"Brzęczyszczykiewicz\")\n",
    "print(farmer.name, farmer.surname)\n",
    "farmer.name = \"Boris\"\n",
    "print(farmer.name, farmer.surname)"
   ]
  },
  {
   "cell_type": "markdown",
   "metadata": {
    "slideshow": {
     "slide_type": "subslide"
    }
   },
   "source": [
    "### Примеры:\n",
    "\n",
    "* property"
   ]
  },
  {
   "cell_type": "code",
   "execution_count": null,
   "metadata": {
    "slideshow": {
     "slide_type": "subslide"
    }
   },
   "outputs": [],
   "source": [
    "C.x\n",
    "# C.__dict__['x'].__get__(None, C)"
   ]
  },
  {
   "cell_type": "markdown",
   "metadata": {
    "slideshow": {
     "slide_type": "subslide"
    }
   },
   "source": [
    "### Примеры non-data дескрипторов:\n",
    "\n",
    "* staticmethod\n",
    "* classmethod"
   ]
  },
  {
   "cell_type": "markdown",
   "metadata": {
    "slideshow": {
     "slide_type": "slide"
    }
   },
   "source": [
    "# Метаклассы"
   ]
  },
  {
   "cell_type": "code",
   "execution_count": null,
   "metadata": {
    "slideshow": {
     "slide_type": "subslide"
    }
   },
   "outputs": [],
   "source": [
    "class A:\n",
    "    def __init__(self):\n",
    "        print('A.__init__')\n",
    "        self.x = 1\n",
    "\n",
    "\n",
    "a = A()\n",
    "print(type(a))\n",
    "print(a.x)"
   ]
  },
  {
   "cell_type": "code",
   "execution_count": 58,
   "metadata": {
    "slideshow": {
     "slide_type": "subslide"
    }
   },
   "outputs": [
    {
     "name": "stdout",
     "output_type": "stream",
     "text": [
      "A.__init__\n",
      "<class '__main__.A'>\n",
      "1\n"
     ]
    }
   ],
   "source": [
    "class A:\n",
    "    def __init__(self):\n",
    "        print('A.__init__')\n",
    "        self.x = 1\n",
    "\n",
    "\n",
    "a = A()\n",
    "print(type(a))\n",
    "print(a.x)"
   ]
  },
  {
   "cell_type": "markdown",
   "metadata": {
    "slideshow": {
     "slide_type": "subslide"
    }
   },
   "source": [
    "Всё есть объект"
   ]
  },
  {
   "cell_type": "code",
   "execution_count": 70,
   "metadata": {
    "slideshow": {
     "slide_type": "fragment"
    }
   },
   "outputs": [
    {
     "name": "stdout",
     "output_type": "stream",
     "text": [
      "<class 'int'>\n",
      "<class 'str'>\n",
      "<class 'type'>\n",
      "<class 'type'>\n"
     ]
    }
   ],
   "source": [
    "print(type(1))\n",
    "print(type('a'))\n",
    "print(type(type))\n",
    "print(type(str))"
   ]
  },
  {
   "cell_type": "code",
   "execution_count": 65,
   "metadata": {
    "slideshow": {
     "slide_type": "subslide"
    }
   },
   "outputs": [
    {
     "name": "stdout",
     "output_type": "stream",
     "text": [
      "A.__init__\n",
      "1\n"
     ]
    }
   ],
   "source": [
    "class B(A):\n",
    "    def method(self):\n",
    "        print(1)\n",
    "\n",
    "b = B()\n",
    "b.method()"
   ]
  },
  {
   "cell_type": "code",
   "execution_count": 66,
   "metadata": {
    "slideshow": {
     "slide_type": "fragment"
    }
   },
   "outputs": [
    {
     "name": "stdout",
     "output_type": "stream",
     "text": [
      "A.__init__\n",
      "1\n"
     ]
    }
   ],
   "source": [
    "B = type('B', (A,), {'method': lambda self: print(1)})\n",
    "\n",
    "b = B()\n",
    "b.method()"
   ]
  },
  {
   "cell_type": "code",
   "execution_count": null,
   "metadata": {
    "slideshow": {
     "slide_type": "subslide"
    }
   },
   "outputs": [],
   "source": [
    "class B:\n",
    "    def __new__(cls, *args):\n",
    "        print(\"B.__new__\")\n",
    "        print(args)\n",
    "        obj = type(\"C\", tuple(), {})()\n",
    "        cls.__init__(obj)\n",
    "        return obj\n",
    "    \n",
    "    def __init__(self, *args):\n",
    "        print(\"B.__init__\")\n",
    "        print(args)\n",
    "        self.x = \"arg\"\n",
    "        \n",
    "\n",
    "b = B(2)\n",
    "print(type(b))\n",
    "print(b.x)"
   ]
  },
  {
   "cell_type": "code",
   "execution_count": 63,
   "metadata": {
    "slideshow": {
     "slide_type": "subslide"
    }
   },
   "outputs": [
    {
     "name": "stdout",
     "output_type": "stream",
     "text": [
      "B.__new__\n",
      "(2,)\n",
      "B.__init__\n",
      "()\n",
      "<class '__main__.C'>\n",
      "arg\n"
     ]
    }
   ],
   "source": [
    "class B:\n",
    "    def __new__(cls, *args):\n",
    "        print(\"B.__new__\")\n",
    "        print(args)\n",
    "        obj = type(\"C\", tuple(), {})()\n",
    "        cls.__init__(obj)\n",
    "        return obj\n",
    "    \n",
    "    def __init__(self, *args):\n",
    "        print(\"B.__init__\")\n",
    "        print(args)\n",
    "        self.x = \"arg\"\n",
    "        \n",
    "\n",
    "b = B(2)\n",
    "print(type(b))\n",
    "print(b.x)"
   ]
  },
  {
   "cell_type": "code",
   "execution_count": null,
   "metadata": {
    "slideshow": {
     "slide_type": "subslide"
    }
   },
   "outputs": [],
   "source": [
    "class C:\n",
    "    def __new__(cls, *args) -> int:\n",
    "        print(\"C.__new__\")\n",
    "        print(args)\n",
    "        return 1\n",
    "    \n",
    "    def __init__(self, x: int) -> None:\n",
    "        print(\"C.__init__\")\n",
    "        print(args)\n",
    "        self.x = x\n",
    "        \n",
    "b = C(3)\n",
    "print(type(b))\n",
    "print(b.x)"
   ]
  },
  {
   "cell_type": "code",
   "execution_count": 67,
   "metadata": {
    "slideshow": {
     "slide_type": "subslide"
    }
   },
   "outputs": [
    {
     "name": "stdout",
     "output_type": "stream",
     "text": [
      "C.__new__\n",
      "(3,)\n",
      "<class 'int'>\n"
     ]
    },
    {
     "ename": "AttributeError",
     "evalue": "'int' object has no attribute 'x'",
     "output_type": "error",
     "traceback": [
      "\u001b[0;31m---------------------------------------------------------------------------\u001b[0m",
      "\u001b[0;31mAttributeError\u001b[0m                            Traceback (most recent call last)",
      "\u001b[0;32m<ipython-input-67-9e41c730e620>\u001b[0m in \u001b[0;36m<module>\u001b[0;34m\u001b[0m\n\u001b[1;32m     12\u001b[0m \u001b[0mb\u001b[0m \u001b[0;34m=\u001b[0m \u001b[0mC\u001b[0m\u001b[0;34m(\u001b[0m\u001b[0;36m3\u001b[0m\u001b[0;34m)\u001b[0m\u001b[0;34m\u001b[0m\u001b[0;34m\u001b[0m\u001b[0m\n\u001b[1;32m     13\u001b[0m \u001b[0mprint\u001b[0m\u001b[0;34m(\u001b[0m\u001b[0mtype\u001b[0m\u001b[0;34m(\u001b[0m\u001b[0mb\u001b[0m\u001b[0;34m)\u001b[0m\u001b[0;34m)\u001b[0m\u001b[0;34m\u001b[0m\u001b[0;34m\u001b[0m\u001b[0m\n\u001b[0;32m---> 14\u001b[0;31m \u001b[0mprint\u001b[0m\u001b[0;34m(\u001b[0m\u001b[0mb\u001b[0m\u001b[0;34m.\u001b[0m\u001b[0mx\u001b[0m\u001b[0;34m)\u001b[0m\u001b[0;34m\u001b[0m\u001b[0;34m\u001b[0m\u001b[0m\n\u001b[0m",
      "\u001b[0;31mAttributeError\u001b[0m: 'int' object has no attribute 'x'"
     ]
    }
   ],
   "source": [
    "class C:\n",
    "    def __new__(cls, *args) -> int:\n",
    "        print(\"C.__new__\")\n",
    "        print(args)\n",
    "        return 1\n",
    "    \n",
    "    def __init__(self, x: int) -> None:\n",
    "        print(\"C.__init__\")\n",
    "        print(args)\n",
    "        self.x = x\n",
    "        \n",
    "b = C(3)\n",
    "print(type(b))\n",
    "print(b.x)"
   ]
  },
  {
   "cell_type": "code",
   "execution_count": 71,
   "metadata": {
    "slideshow": {
     "slide_type": "skip"
    }
   },
   "outputs": [],
   "source": [
    "from typing import Tuple, Dict, Any"
   ]
  },
  {
   "cell_type": "code",
   "execution_count": 81,
   "metadata": {
    "slideshow": {
     "slide_type": "subslide"
    }
   },
   "outputs": [],
   "source": [
    "class Metaclass(type):\n",
    "    def __new__(\n",
    "        cls: type, \n",
    "        name: str,\n",
    "        bases: Tuple[type, ...],\n",
    "        dct: Dict[str, Any]\n",
    "    ) -> \"Metaclass\":\n",
    "        print(\"Metaclass.__new__\")\n",
    "        print(cls, name, bases, dct)\n",
    "        obj = type.__new__(cls, name, bases, dct)\n",
    "        return obj"
   ]
  },
  {
   "cell_type": "code",
   "execution_count": 82,
   "metadata": {
    "slideshow": {
     "slide_type": "fragment"
    }
   },
   "outputs": [
    {
     "name": "stdout",
     "output_type": "stream",
     "text": [
      "Metaclass.__new__\n",
      "<class '__main__.Metaclass'> Example () {'__module__': '__main__', '__qualname__': 'Example'}\n"
     ]
    }
   ],
   "source": [
    "class Example(metaclass=Metaclass):\n",
    "    pass"
   ]
  },
  {
   "cell_type": "code",
   "execution_count": 87,
   "metadata": {
    "slideshow": {
     "slide_type": "subslide"
    }
   },
   "outputs": [
    {
     "name": "stdout",
     "output_type": "stream",
     "text": [
      "Metaclass.__new__\n",
      "<class '__main__.Metaclass'> Exmaple () {'__module__': '__main__', '__qualname__': 'Exmaple', 'f': <function Exmaple.f at 0x7f4984313710>}\n",
      "Metaclass.__init__\n",
      "<class '__main__.Exmaple'> Exmaple () {'__module__': '__main__', '__qualname__': 'Exmaple', 'f': <function Exmaple.f at 0x7f4984313710>}\n"
     ]
    }
   ],
   "source": [
    "class Metaclass(type):\n",
    "    def __new__(cls, name, bases, dct: Dict[str, Any]) -> \"Metaclass\":\n",
    "        print(\"Metaclass.__new__\")\n",
    "        print(cls, name, bases, dct)\n",
    "        obj = type.__new__(cls, name, bases, dct)\n",
    "        return obj\n",
    "    \n",
    "    def __init__(\n",
    "        cls:   type, \n",
    "        name:  str, \n",
    "        bases: Tuple[type], \n",
    "        dct:   Dict[str, Any]\n",
    "    ) -> None:\n",
    "        print(\"Metaclass.__init__\")\n",
    "        print(cls, name, bases, dct)\n",
    "\n",
    "\n",
    "class Exmaple(metaclass=Metaclass):\n",
    "    def f():\n",
    "        pass"
   ]
  },
  {
   "cell_type": "code",
   "execution_count": 88,
   "metadata": {
    "slideshow": {
     "slide_type": "subslide"
    }
   },
   "outputs": [
    {
     "name": "stdout",
     "output_type": "stream",
     "text": [
      "Metaclass.__new__\n",
      "Metaclass.__init__\n"
     ]
    }
   ],
   "source": [
    "class Metaclass(type):\n",
    "    def __new__(meta, name, bases, dct) -> \"Metaclass\":\n",
    "        print(\"Metaclass.__new__\")\n",
    "        return super().__new__(meta, name, bases, dct)\n",
    "     \n",
    "    def __init__(cls, name, bases, dct) -> None:\n",
    "        print(\"Metaclass.__init__\")\n",
    "    \n",
    "    def __call__(cls, *args, **kwargs):\n",
    "        print(\"Metaclass.__call__\")\n",
    "        print(cls, args, kwargs)\n",
    "        return type.__call__(cls, *args, **kwargs)\n",
    "        # return cls(*args, **kwargs)  бесконечная рекурсия\n",
    "\n",
    "class Exmaple(metaclass=Metaclass):\n",
    "    def __init__(self, *args, **kwargs):\n",
    "        print(\"Exmaple.__init__\")\n",
    "        print(args, kwargs)"
   ]
  },
  {
   "cell_type": "code",
   "execution_count": 89,
   "metadata": {
    "slideshow": {
     "slide_type": "fragment"
    }
   },
   "outputs": [
    {
     "name": "stdout",
     "output_type": "stream",
     "text": [
      "Metaclass.__call__\n",
      "<class '__main__.Exmaple'> (1,) {'x': 2}\n",
      "Exmaple.__init__\n",
      "(1,) {'x': 2}\n"
     ]
    }
   ],
   "source": [
    "obj = Exmaple(1, x=2)"
   ]
  },
  {
   "cell_type": "markdown",
   "metadata": {
    "slideshow": {
     "slide_type": "subslide"
    }
   },
   "source": [
    "1. `__new__` вызывается до создания класса, возвращает класс\n",
    "2. `__init__` после создания класса\n",
    "3. `__call__` вызывается перед созданием объекта класса"
   ]
  },
  {
   "cell_type": "markdown",
   "metadata": {
    "slideshow": {
     "slide_type": "slide"
    }
   },
   "source": [
    "# ABC + abstractmethod"
   ]
  },
  {
   "cell_type": "code",
   "execution_count": 91,
   "metadata": {
    "slideshow": {
     "slide_type": "skip"
    }
   },
   "outputs": [],
   "source": [
    "from typing import Callable"
   ]
  },
  {
   "cell_type": "code",
   "execution_count": 92,
   "metadata": {
    "slideshow": {
     "slide_type": "subslide"
    }
   },
   "outputs": [],
   "source": [
    "class AbstractMethod:\n",
    "    def __call__(self) -> None:\n",
    "        raise NotImplementedError(\"Method not implemented\")\n",
    "\n",
    "def abstractmethod(method: Callable[..., Any]) -> AbstractMethod:\n",
    "    return AbstractMethod()\n",
    "\n",
    "class Animal():\n",
    "    @abstractmethod\n",
    "    def hello(self) -> None:\n",
    "        pass"
   ]
  },
  {
   "cell_type": "code",
   "execution_count": 97,
   "metadata": {
    "slideshow": {
     "slide_type": "subslide"
    }
   },
   "outputs": [],
   "source": [
    "from copy import deepcopy\n",
    "\n",
    "import inspect\n",
    "\n",
    "\n",
    "class MyABCMeta(type):\n",
    "    def __init__(cls: type, name: str, bases: Tuple[type, ...], dct: Dict[str, Any]) -> None:\n",
    "        # Собираем все AbstractMethod из класса, который создаём\n",
    "        abstract_methods = {name for name, value in dct.items() if isinstance(value, AbstractMethod)}\n",
    "        # Собираем все AbstractMethod из родителей класса, который создаём\n",
    "        for base in bases:\n",
    "            new_methods = inspect.getmembers(base, predicate=lambda x: isinstance(x, AbstractMethod))\n",
    "            abstract_methods.update({k for k, v in new_methods})\n",
    "        # Теперь в abstract_methods собрали все методы, которые нужно переписать\n",
    "        # Собираем все функции, которые есть в классе, который создаём\n",
    "        concrete_methods = {name for name, value in dct.items() if inspect.isfunction(value)}\n",
    "        # Записываем все непереопределённые методы в __abstract_methods__\n",
    "        cls.__abstract_methods = abstract_methods - concrete_methods\n",
    "        \n",
    "    def __call__(cls: type, *args: Any, **kwargs: Any) -> Any:\n",
    "        # Если на момент создания объекта в классе остаются абстрактные методы кидаем ошибку\n",
    "        if cls.__abstract_methods:\n",
    "            methods = \", \".join(cls.__abstract_methods)\n",
    "            raise NotImplementedError(\"Methods not implemented: {}\".format(methods))\n",
    "        return type.__call__(cls, *args, **kwargs)\n",
    "\n",
    "class MyABC(metaclass=MyABCMeta):\n",
    "   pass"
   ]
  },
  {
   "cell_type": "code",
   "execution_count": 98,
   "metadata": {
    "slideshow": {
     "slide_type": "subslide"
    }
   },
   "outputs": [],
   "source": [
    " class Animal(MyABC):\n",
    "    @abstractmethod\n",
    "    def hello(self) -> None:\n",
    "        pass\n",
    "\n",
    "    \n",
    "class Cow(Animal):\n",
    "    def hello(self) -> None:\n",
    "        print(\"Moo\")\n",
    "        \n",
    "class Sheep(Animal):\n",
    "    pass"
   ]
  },
  {
   "cell_type": "code",
   "execution_count": 99,
   "metadata": {
    "slideshow": {
     "slide_type": "subslide"
    }
   },
   "outputs": [
    {
     "name": "stdout",
     "output_type": "stream",
     "text": [
      "Methods not implemented: hello\n",
      "Methods not implemented: hello\n",
      "Moo\n"
     ]
    }
   ],
   "source": [
    "try:\n",
    "    l = Animal()\n",
    "except NotImplementedError as e:\n",
    "    print(e)\n",
    "try:\n",
    "    s = Sheep()\n",
    "except NotImplementedError as e:\n",
    "    print(e)\n",
    "\n",
    "c = Cow()\n",
    "c.hello()"
   ]
  }
 ],
 "metadata": {
  "celltoolbar": "Slideshow",
  "kernelspec": {
   "display_name": "Python 3",
   "language": "python",
   "name": "python3"
  },
  "language_info": {
   "codemirror_mode": {
    "name": "ipython",
    "version": 3
   },
   "file_extension": ".py",
   "mimetype": "text/x-python",
   "name": "python",
   "nbconvert_exporter": "python",
   "pygments_lexer": "ipython3",
   "version": "3.7.5"
  }
 },
 "nbformat": 4,
 "nbformat_minor": 2
}
